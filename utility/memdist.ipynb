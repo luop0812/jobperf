{
 "cells": [
  {
   "cell_type": "code",
   "execution_count": 1,
   "id": "0262bc8a-b8c5-4b56-9ba0-d3946f65762f",
   "metadata": {},
   "outputs": [],
   "source": [
    "import os\n",
    "import yaml\n",
    "import numpy as np\n",
    "import matplotlib.pyplot as plt\n",
    "\n",
    "from config import config"
   ]
  },
  {
   "cell_type": "code",
   "execution_count": 2,
   "id": "2f16c4bb-34c9-480b-9f83-19291f48cd15",
   "metadata": {},
   "outputs": [],
   "source": [
    "perf_path_prefix = config[\"perf_path_prefix\"]\n",
    "\n",
    "memused_ary = []\n",
    "for jobid in os.listdir(perf_path_prefix):\n",
    "    for fn in os.listdir(perf_path_prefix+\"/\"+jobid):\n",
    "        fullname = perf_path_prefix+\"/\"+jobid+\"/\"+fn\n",
    "\n",
    "        with open(fullname, \"r\") as f:\n",
    "            jobperf = yaml.safe_load(f)\n",
    "\n",
    "            perflist = jobperf[\"metrics\"]\n",
    "\n",
    "            # find the largest memory used\n",
    "            maxmem = 0\n",
    "            for i in range(len(perflist)):\n",
    "                memused = float(perflist[i].split(\":\")[6])\n",
    "                if memused > maxmem:\n",
    "                    maxmem = memused\n",
    "\n",
    "        memused_ary.append(maxmem/1024)\n",
    "\n",
    "#print(memused_ary)"
   ]
  },
  {
   "cell_type": "code",
   "execution_count": 27,
   "id": "6be05104-cb10-4820-bc7f-d17e5b38d130",
   "metadata": {},
   "outputs": [],
   "source": [
    "x = np.array(memused_ary)\n",
    "y = np.ceil(x).astype(int)"
   ]
  },
  {
   "cell_type": "code",
   "execution_count": 33,
   "id": "d8646a27-6e12-4c4a-b8fd-42bda65c27d1",
   "metadata": {},
   "outputs": [
    {
     "name": "stdout",
     "output_type": "stream",
     "text": [
      "[41  7  2 ...  1 35  2]\n"
     ]
    },
    {
     "data": {
      "text/plain": [
       "80"
      ]
     },
     "execution_count": 33,
     "metadata": {},
     "output_type": "execute_result"
    }
   ],
   "source": [
    "print(y)\n",
    "y.size\n",
    "y.max()"
   ]
  },
  {
   "cell_type": "code",
   "execution_count": 45,
   "id": "7b0698e3-d1de-442d-87ce-9ef008f755e5",
   "metadata": {},
   "outputs": [
    {
     "name": "stdout",
     "output_type": "stream",
     "text": [
      "[ 2  0  1  1  0  0  0  1  0  0  0  0  0  0  4  1  1  0  0  0  3  1  1  0\n",
      "  0  1  1  0  1  0  5 19]\n",
      "43\n",
      "37\n",
      "143\n",
      "826\n"
     ]
    },
    {
     "data": {
      "text/plain": [
       "array([826,  37, 143,  43])"
      ]
     },
     "execution_count": 45,
     "metadata": {},
     "output_type": "execute_result"
    }
   ],
   "source": [
    "# count values <5, <10, <20, <48, <80 GiB\n",
    "counts1=np.bincount(y)\n",
    "print(counts1[49:])\n",
    "print(np.sum(counts1[49:]))\n",
    "print(np.sum(counts1[11:21]))\n",
    "print(np.sum(counts1[21:49]))\n",
    "print(np.sum(counts1[1:11]))\n",
    "np.append(np.sum(counts1[1:11]), np.sum(counts1[11:21]))\n",
    "np.append(np.append(np.sum(counts1[1:11]), np.sum(counts1[11:21])), np.sum(counts1[21:49]))\n",
    "np.append(np.append(np.append(np.sum(counts1[1:11]), np.sum(counts1[11:21])), np.sum(counts1[21:49])), np.sum(counts1[49:]))"
   ]
  },
  {
   "cell_type": "code",
   "execution_count": 46,
   "id": "8058c6aa-5cea-4b96-b2b3-f86889ed41fe",
   "metadata": {},
   "outputs": [
    {
     "data": {
      "text/plain": [
       "array([826,  37, 143,  43])"
      ]
     },
     "execution_count": 46,
     "metadata": {},
     "output_type": "execute_result"
    }
   ],
   "source": [
    "bins1 = [\"10\", \"20\", \"48\", \"80\"]\n",
    "bincounts1 = np.append(np.append(np.append(np.sum(counts1[1:11]), np.sum(counts1[11:21])), np.sum(counts1[21:49])), np.sum(counts1[49:]))\n",
    "bincounts1"
   ]
  },
  {
   "cell_type": "code",
   "execution_count": 53,
   "id": "4145eb48-c6ad-48b8-b3ee-2ef313e58834",
   "metadata": {},
   "outputs": [
    {
     "data": {
      "text/plain": [
       "<BarContainer object of 4 artists>"
      ]
     },
     "execution_count": 53,
     "metadata": {},
     "output_type": "execute_result"
    },
    {
     "data": {
      "image/png": "[encoded data removed]",
      "text/plain": [
       "<Figure size 640x480 with 1 Axes>"
      ]
     },
     "metadata": {},
     "output_type": "display_data"
    }
   ],
   "source": [
    "fig, ax = plt.subplots()\n",
    "ax.bar(bins1, bincounts1)"
   ]
  },
  {
   "cell_type": "code",
   "execution_count": 51,
   "id": "d2b4ad8d-1ffd-46c0-aa69-4d8d69657174",
   "metadata": {},
   "outputs": [
    {
     "data": {
      "text/plain": [
       "array([489, 344,  71, 102,  43])"
      ]
     },
     "execution_count": 51,
     "metadata": {},
     "output_type": "execute_result"
    }
   ],
   "source": [
    "z = np.ceil(x).astype(int)\n",
    "# count values <6, <12, <24, <48, <80 GiB\n",
    "counts2=np.bincount(z)\n",
    "counts2\n",
    "bins2 = [\"6\", \"12\", \"24\", \"48\", \"80\"]\n",
    "bincounts2 = np.append(np.append(np.append(np.append(np.sum(counts2[1:7]), np.sum(counts2[7:13])), np.sum(counts2[13:25])), np.sum(counts2[25:49])), np.sum(counts2[49:]))\n",
    "bincounts2"
   ]
  },
  {
   "cell_type": "code",
   "execution_count": 52,
   "id": "5e603532-bcb1-4f5e-9515-7a8768d798b8",
   "metadata": {},
   "outputs": [
    {
     "data": {
      "text/plain": [
       "<BarContainer object of 5 artists>"
      ]
     },
     "execution_count": 52,
     "metadata": {},
     "output_type": "execute_result"
    },
    {
     "data": {
      "image/png": "[encoded data removed]",
      "text/plain": [
       "<Figure size 640x480 with 1 Axes>"
      ]
     },
     "metadata": {},
     "output_type": "display_data"
    }
   ],
   "source": [
    "fig, ax = plt.subplots()\n",
    "ax.bar(bins2, bincounts2)"
   ]
  },
  {
   "cell_type": "code",
   "execution_count": null,
   "id": "44b992a3-82af-4b49-8706-d3958d944331",
   "metadata": {},
   "outputs": [],
   "source": []
  }
 ],
 "metadata": {
  "kernelspec": {
   "display_name": "Python 3 (ipykernel)",
   "language": "python",
   "name": "python3"
  },
  "language_info": {
   "codemirror_mode": {
    "name": "ipython",
    "version": 3
   },
   "file_extension": ".py",
   "mimetype": "text/x-python",
   "name": "python",
   "nbconvert_exporter": "python",
   "pygments_lexer": "ipython3",
   "version": "3.12.2"
  }
 },
 "nbformat": 4,
 "nbformat_minor": 5
}
