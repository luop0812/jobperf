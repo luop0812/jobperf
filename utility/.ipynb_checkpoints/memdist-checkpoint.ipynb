{
 "cells": [
  {
   "cell_type": "code",
   "execution_count": null,
   "id": "0262bc8a-b8c5-4b56-9ba0-d3946f65762f",
   "metadata": {},
   "outputs": [],
   "source": [
    "import os\n",
    "import yaml\n",
    "import numpy as np\n",
    "import matplotlib.pyplot as plt\n",
    "\n",
    "from config import config"
   ]
  },
  {
   "cell_type": "code",
   "execution_count": null,
   "id": "2f16c4bb-34c9-480b-9f83-19291f48cd15",
   "metadata": {},
   "outputs": [],
   "source": [
    "perf_path_prefix = config[\"perf_path_prefix\"]\n",
    "\n",
    "memused_ary = []\n",
    "for jobid in os.listdir(perf_path_prefix):\n",
    "    for fn in os.listdir(perf_path_prefix+\"/\"+jobid):\n",
    "        fullname = perf_path_prefix+\"/\"+jobid+\"/\"+fn\n",
    "\n",
    "        with open(fullname, \"r\") as f:\n",
    "            jobperf = yaml.safe_load(f)\n",
    "\n",
    "            perflist = jobperf[\"metrics\"]\n",
    "\n",
    "            # find the largest memory used\n",
    "            maxmem = 0\n",
    "            for i in range(len(perflist)):\n",
    "                memused = float(perflist[i].split(\":\")[6])\n",
    "                if memused > maxmem:\n",
    "                    maxmem = memused\n",
    "\n",
    "        memused_ary.append(maxmem/1024)\n",
    "\n",
    "#print(memused_ary)"
   ]
  },
  {
   "cell_type": "code",
   "execution_count": null,
   "id": "6be05104-cb10-4820-bc7f-d17e5b38d130",
   "metadata": {},
   "outputs": [],
   "source": [
    "x = np.array(memused_ary)\n",
    "y = np.ceil(x/5).astype(int)"
   ]
  },
  {
   "cell_type": "code",
   "execution_count": null,
   "id": "7b16fc03-bd44-478d-93d4-3028e0a57ef0",
   "metadata": {},
   "outputs": [],
   "source": [
    "print(y)"
   ]
  },
  {
   "cell_type": "code",
   "execution_count": null,
   "id": "7b0698e3-d1de-442d-87ce-9ef008f755e5",
   "metadata": {},
   "outputs": [],
   "source": [
    "# we want to count values <5, <10, <15, <20, <48, <80 GiB\n",
    "counts=np.bincount(y)"
   ]
  },
  {
   "cell_type": "code",
   "execution_count": null,
   "id": "8058c6aa-5cea-4b96-b2b3-f86889ed41fe",
   "metadata": {},
   "outputs": [],
   "source": [
    "bins = [5, 10, 15, 20, 48, 80]\n",
    "bincounts = np.append(np.append(counts[1:5], np.sum(counts[5:10])), np.sum(counts[10:]))\n",
    "bincounts"
   ]
  },
  {
   "cell_type": "code",
   "execution_count": null,
   "id": "4145eb48-c6ad-48b8-b3ee-2ef313e58834",
   "metadata": {},
   "outputs": [],
   "source": []
  }
 ],
 "metadata": {
  "kernelspec": {
   "display_name": "Python 3 (ipykernel)",
   "language": "python",
   "name": "python3"
  },
  "language_info": {
   "codemirror_mode": {
    "name": "ipython",
    "version": 3
   },
   "file_extension": ".py",
   "mimetype": "text/x-python",
   "name": "python",
   "nbconvert_exporter": "python",
   "pygments_lexer": "ipython3",
   "version": "3.12.2"
  }
 },
 "nbformat": 4,
 "nbformat_minor": 5
}
